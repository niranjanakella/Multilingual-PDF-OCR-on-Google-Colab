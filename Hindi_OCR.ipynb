{
 "metadata": {
  "language_info": {
   "codemirror_mode": {
    "name": "ipython",
    "version": 3
   },
   "file_extension": ".py",
   "mimetype": "text/x-python",
   "name": "python",
   "nbconvert_exporter": "python",
   "pygments_lexer": "ipython3",
   "version": "3.7.1-final"
  },
  "orig_nbformat": 2,
  "kernelspec": {
   "name": "python3",
   "display_name": "Python 3",
   "language": "python"
  }
 },
 "nbformat": 4,
 "nbformat_minor": 2,
 "cells": [
  {
   "source": [
    "# Hindi-PDF-OCR-on-Google-Colab by Akella Niranjan\n",
    "Initially install all the necessary packages on to the Google Colab instance."
   ],
   "cell_type": "markdown",
   "metadata": {}
  },
  {
   "cell_type": "code",
   "execution_count": null,
   "metadata": {},
   "outputs": [],
   "source": [
    "!pip install pytesseract\n",
    "!sudo apt install tesseract-ocr\n",
    "!apt-get update\n",
    "!pip install pdf2image\n",
    "!apt-get install poppler-utils\n",
    "!sudo apt-get install tesseract-ocr-hin"
   ]
  },
  {
   "cell_type": "code",
   "execution_count": null,
   "metadata": {},
   "outputs": [],
   "source": [
    "#### Importing all the necessary libraries such as OCR Engine, System libraries for file handling, PDF file handing libraries and Google Colab file handing libraries."
   ]
  },
  {
   "cell_type": "code",
   "execution_count": null,
   "metadata": {},
   "outputs": [],
   "source": [
    "import pytesseract\n",
    "import os, glob, sys\n",
    "from pdf2image import convert_from_path, convert_from_bytes\n",
    "from google.colab import files"
   ]
  },
  {
   "cell_type": "code",
   "execution_count": null,
   "metadata": {},
   "outputs": [],
   "source": [
    "print(\"Upload .pdf file\")\n",
    "uploaded = files.upload()\n",
    "\n",
    "for fn in uploaded.keys():\n",
    "  print('User uploaded file \"{name}\" with length {length} bytes'.format(\n",
    "      name=fn, length=len(uploaded[fn])))\n",
    "  file_name = fn\n",
    "\n",
    "# drive.mount('/content/drive')\n",
    "# os.chdir('/content/drive/MyDrive/Carrier/Projects/OtherProjects/DeepLearning/HindiOCR/')\n",
    "\n",
    "#Setting the path to the tesseract library executable file\n",
    "pytesseract.pytesseract.tesseract_cmd = (r'/usr/bin/tesseract')\n",
    "# images = convert_from_bytes(open('/content/drive/MyDrive/Carrier/Projects/OtherProjects/DeepLearning/HindiOCR/19770220_Mataji With New Sahaj Sahaja Yogis- The Creation_Delhi.pdf', 'rb').read(), size=1000)\n",
    "\n",
    "images = convert_from_bytes(open(file_name, 'rb').read(), size=1000)\n",
    "\n",
    "pdf_start = int(input('Enter the starting page number '))-1\n",
    "pdf_end = int(input('Enter the ending page number '))\n",
    "\n",
    "images = images[pdf_start:pdf_end]\n",
    "sytext = ''\n",
    "\n",
    "def ExtractText(x):\n",
    "  text = ''\n",
    "  text += pytesseract.image_to_string(x, lang = 'hin')\n",
    "  text = text.replace('\\n',' ')\n",
    "  return text\n",
    "\n",
    "for i in range(0,len(images)):\n",
    "  sytext += '\\n\\n'+ ExtractText(images[i])+'\\n\\n'\n",
    "\n",
    "DownloadFileName = file_name.replace('.pdf','')\n",
    "\n",
    "text_file = open(DownloadFileName+\".txt\", \"wt\")\n",
    "text_file.write(sytext)\n",
    "text_file.close()\n",
    "\n",
    "files.download(DownloadFileName+'.txt')\n"
   ]
  }
 ]
}