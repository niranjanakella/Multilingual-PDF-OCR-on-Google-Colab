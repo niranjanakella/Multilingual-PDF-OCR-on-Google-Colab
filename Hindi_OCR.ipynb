{
 "metadata": {
  "language_info": {
   "codemirror_mode": {
    "name": "ipython",
    "version": 3
   },
   "file_extension": ".py",
   "mimetype": "text/x-python",
   "name": "python",
   "nbconvert_exporter": "python",
   "pygments_lexer": "ipython3",
   "version": "3.7.1-final"
  },
  "orig_nbformat": 2,
  "kernelspec": {
   "name": "python3",
   "display_name": "Python 3",
   "language": "python"
  }
 },
 "nbformat": 4,
 "nbformat_minor": 2,
 "cells": [
  {
   "source": [
    "# Hindi-PDF-OCR-on-Google-Colab by Akella Niranjan\n",
    "Initially install all the necessary packages on to the Google Colab instance."
   ],
   "cell_type": "markdown",
   "metadata": {}
  },
  {
   "cell_type": "code",
   "execution_count": null,
   "metadata": {},
   "outputs": [],
   "source": [
    "#Installing packages N\n",
    "!pip install pytesseract\n",
    "!sudo apt install tesseract-ocr\n",
    "!apt-get update\n",
    "!pip install pdf2image\n",
    "!apt-get install poppler-utils\n",
    "!sudo apt-get install tesseract-ocr-hin"
   ]
  },
  {
   "source": [
    "### Importing all the necessary libraries such as OCR Engine, System libraries for file handling, PDF file handing libraries and Google Colab file handing libraries."
   ],
   "cell_type": "markdown",
   "metadata": {}
  },
  {
   "cell_type": "code",
   "execution_count": null,
   "metadata": {},
   "outputs": [],
   "source": [
    "#Importing libraries a\n",
    "import pytesseract\n",
    "import os, glob, sys\n",
    "from pdf2image import convert_from_path, convert_from_bytes\n",
    "from google.colab import files"
   ]
  },
  {
   "cell_type": "code",
   "execution_count": null,
   "metadata": {},
   "outputs": [],
   "source": [
    "print(\"Upload .pdf file\")\n",
    "uploaded = files.upload()\n",
    "\n",
    "#Displaying information regarding the uploaded file\n",
    "for fn in uploaded.keys():\n",
    "  print('User uploaded file \"{name}\" with length {length} bytes'.format(\n",
    "      name=fn, length=len(uploaded[fn])))\n",
    "  file_name = fn\n",
    "\n",
    "\n",
    "#Setting the path to the tesseract library executable file n\n",
    "pytesseract.pytesseract.tesseract_cmd = (r'/usr/bin/tesseract')\n",
    "\n",
    "#Converting PDF pages into images and assing the extracted information to \"images\" variable\n",
    "images = convert_from_bytes(open(file_name, 'rb').read(), size=1000)\n",
    "\n",
    "#Assigning the starting and ending page parameters\n",
    "pdf_start = int(input('Enter the starting page number '))-1\n",
    "pdf_end = int(input('Enter the ending page number '))\n",
    "\n",
    "#Consizing the PDF to the desired range\n",
    "images = images[pdf_start:pdf_end]\n",
    "sytext = ''\n",
    "\n",
    "#Function to extract character data from the contents of the PDF file using Google OCR engine j\n",
    "def ExtractText(x):\n",
    "  text = ''\n",
    "  text += pytesseract.image_to_string(x, lang = 'hin')\n",
    "\n",
    "  #Omitting unecessary string values\n",
    "  text = text.replace('\\n',' ')\n",
    "  return text\n",
    "\n",
    "for i in range(0,len(images)):\n",
    "  sytext += '\\n\\n'+ ExtractText(images[i])+'\\n\\n'\n",
    "\n",
    "#Obtaining the output file name from the uploaded file\n",
    "DownloadFileName = file_name.replace('.pdf','')\n",
    "\n",
    "#Creating a text file\n",
    "text_file = open(DownloadFileName+\".txt\", \"wt\")\n",
    "text_file.write(sytext)\n",
    "text_file.close()\n",
    "\n",
    "#Downloading the text file on to the host system\n",
    "files.download(DownloadFileName+'.txt')\n"
   ]
  },
  {
   "cell_type": "code",
   "execution_count": null,
   "metadata": {},
   "outputs": [],
   "source": []
  },
  {
   "cell_type": "code",
   "execution_count": null,
   "metadata": {},
   "outputs": [],
   "source": [
    "#Clearning all files o\n",
    "allfiles=[]\n",
    "for i in glob.glob(\"*.*\"):\n",
    "  allfiles.append(i)\n",
    "\n",
    "for i in allfiles:\n",
    "  os.remove(i)\n",
    "  \n",
    "# sys.modules[__name__].__dict__.clear()"
   ]
  }
 ]
}